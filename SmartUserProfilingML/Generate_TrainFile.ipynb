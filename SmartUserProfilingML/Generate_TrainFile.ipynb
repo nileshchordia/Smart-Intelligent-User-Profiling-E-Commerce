{
 "cells": [
  {
   "cell_type": "code",
   "execution_count": 323,
   "metadata": {
    "collapsed": false
   },
   "outputs": [],
   "source": [
    "import csv \n",
    "import sys\n",
    "# import csv\n",
    "import random\n",
    "import pandas as pd\n",
    "import numpy as np"
   ]
  },
  {
   "cell_type": "code",
   "execution_count": 324,
   "metadata": {
    "collapsed": true
   },
   "outputs": [],
   "source": [
    "trainfile=open(\"train.dat\",\"w\")"
   ]
  },
  {
   "cell_type": "code",
   "execution_count": 325,
   "metadata": {
    "collapsed": true
   },
   "outputs": [],
   "source": [
    "f = open('projextitemusermatrix.csv','r')\n",
    "reader = csv.reader(f)"
   ]
  },
  {
   "cell_type": "code",
   "execution_count": 326,
   "metadata": {
    "collapsed": false
   },
   "outputs": [],
   "source": [
    "\n",
    "for num in range(1,1000001):\n",
    "\tl=[]\n",
    "\tdead=random.randint(1,10)\n",
    "\ttemp=random.sample(range(1,176),dead)\n",
    "\tfor i in range(0,len(temp)):\n",
    "\t\ttemp[i]=str(temp[i])\n",
    "\t\tf.seek(0,0)\n",
    "\t\tfor row in reader:\n",
    "\t\t\tif(temp[i]==row[0]):\n",
    "\t\t\t\tll=row\n",
    "\t\t\t\tl.append(ll)\n",
    "# \t\t\t\t\tprint\n",
    "\n",
    "\t\t\t\t\t\n",
    "\tarr=[]\n",
    "# \tprint \"length of \"+str(len(l))\n",
    "\n",
    "\tfor i in range(2,18):\n",
    "        #i denotes total no. of classes that comes from csv\n",
    "\t\ttemp1=0\n",
    "\t\tfor j in range(0,len(l)):\n",
    "\t#         print l[j][i]\n",
    "\t\t\ttemp1 +=int(l[j][i])\n",
    "\t#     print \"nilesh\"\n",
    "\t#     print temp\n",
    "\t\tarr.append(temp1)\n",
    "# \t\tprint len(arr)\n",
    "\t\t\n",
    "\t\t\n",
    "\tclasss=['Student','Homemaker','IT_Proffesional','Salesman','Senior_Citizen','Teachers','Gamers','Traveller','Sportsman','Medical','Artist','PhotoGrapher','BuisnessMan','Muscican','Fitness_Trainer','Job_Seeker']\n",
    "    # \tprint len(classs)\n",
    "\tfor i, j in enumerate(arr):\n",
    "\t\tif j == max(arr):\n",
    "# \t\t\tprint classs[i]\n",
    "\t\t\tclassid=i\n",
    "\ttrainfile.write(classs[classid])\n",
    "\t# newarr=[]\n",
    "\tfor k in range(0,len(l)):\n",
    "\t\ttrainfile.write(\" \" + l[k][0]+ \":\"+l[k][classid+2])\n",
    "\ttrainfile.write(\"\\n\")"
   ]
  },
  {
   "cell_type": "code",
   "execution_count": 327,
   "metadata": {
    "collapsed": false
   },
   "outputs": [],
   "source": [
    "f.close()\n",
    "trainfile.close()"
   ]
  },
  {
   "cell_type": "code",
   "execution_count": null,
   "metadata": {
    "collapsed": true
   },
   "outputs": [],
   "source": []
  },
  {
   "cell_type": "code",
   "execution_count": null,
   "metadata": {
    "collapsed": false
   },
   "outputs": [],
   "source": []
  },
  {
   "cell_type": "code",
   "execution_count": null,
   "metadata": {
    "collapsed": false
   },
   "outputs": [],
   "source": []
  },
  {
   "cell_type": "code",
   "execution_count": null,
   "metadata": {
    "collapsed": false
   },
   "outputs": [],
   "source": []
  },
  {
   "cell_type": "code",
   "execution_count": null,
   "metadata": {
    "collapsed": false
   },
   "outputs": [],
   "source": []
  },
  {
   "cell_type": "code",
   "execution_count": null,
   "metadata": {
    "collapsed": false
   },
   "outputs": [],
   "source": []
  },
  {
   "cell_type": "code",
   "execution_count": null,
   "metadata": {
    "collapsed": false
   },
   "outputs": [],
   "source": []
  },
  {
   "cell_type": "code",
   "execution_count": null,
   "metadata": {
    "collapsed": false
   },
   "outputs": [],
   "source": []
  },
  {
   "cell_type": "code",
   "execution_count": null,
   "metadata": {
    "collapsed": false
   },
   "outputs": [],
   "source": []
  },
  {
   "cell_type": "code",
   "execution_count": null,
   "metadata": {
    "collapsed": false
   },
   "outputs": [],
   "source": []
  },
  {
   "cell_type": "code",
   "execution_count": null,
   "metadata": {
    "collapsed": true
   },
   "outputs": [],
   "source": []
  },
  {
   "cell_type": "code",
   "execution_count": null,
   "metadata": {
    "collapsed": true
   },
   "outputs": [],
   "source": []
  },
  {
   "cell_type": "code",
   "execution_count": null,
   "metadata": {
    "collapsed": true
   },
   "outputs": [],
   "source": []
  }
 ],
 "metadata": {
  "kernelspec": {
   "display_name": "Python 2",
   "language": "python",
   "name": "python2"
  },
  "language_info": {
   "codemirror_mode": {
    "name": "ipython",
    "version": 2
   },
   "file_extension": ".py",
   "mimetype": "text/x-python",
   "name": "python",
   "nbconvert_exporter": "python",
   "pygments_lexer": "ipython2",
   "version": "2.7.12"
  }
 },
 "nbformat": 4,
 "nbformat_minor": 0
}
