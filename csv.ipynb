{
 "cells": [
  {
   "cell_type": "code",
   "execution_count": 76,
   "metadata": {
    "collapsed": false
   },
   "outputs": [],
   "source": [
    "import csv \n",
    "import sys\n",
    "# import csv\n",
    "import random\n",
    "import pandas as pd\n",
    "import numpy as np"
   ]
  },
  {
   "cell_type": "code",
   "execution_count": 77,
   "metadata": {
    "collapsed": false
   },
   "outputs": [],
   "source": [
    "\n",
    "f = open('projextitemusermatrix.csv','r')\n",
    "reader = csv.reader(f)\n",
    "# for i in range(1,random.randint(1,20)):\n",
    "#         temp=random.randint(1,176)\n",
    "#         print temp\n",
    "#         for row in reader:\n",
    "#             if(temp==row[0]):\n",
    "#                 print row\n",
    "#     int(row[0])\n",
    "    \n",
    "#     print \"rowsss\"\n",
    "    \n",
    "# for column in reader:\n",
    "#     print column\n",
    "#     print \"nilesh\"\n",
    "\n",
    "l=[]"
   ]
  },
  {
   "cell_type": "code",
   "execution_count": 78,
   "metadata": {
    "collapsed": false
   },
   "outputs": [],
   "source": [
    "dead=random.randint(1,20)\n",
    "for i in range(1,dead):\n",
    "        temp=random.randint(1,176)\n",
    "        temp=str(temp)\n",
    "#         print temp\n",
    "        f.seek(0,0)\n",
    "        for row in reader:\n",
    "            if(temp==row[0]):\n",
    "                ll=row\n",
    "                l.append(ll)\n",
    "#                 print ll\n",
    "                \n",
    "# f.seek(0,0)    "
   ]
  },
  {
   "cell_type": "code",
   "execution_count": null,
   "metadata": {
    "collapsed": false
   },
   "outputs": [],
   "source": []
  },
  {
   "cell_type": "code",
   "execution_count": 79,
   "metadata": {
    "collapsed": false
   },
   "outputs": [
    {
     "name": "stdout",
     "output_type": "stream",
     "text": [
      "[3650]\n",
      "[3650, 1350]\n",
      "[3650, 1350, 3900]\n",
      "[3650, 1350, 3900, 1500]\n",
      "[3650, 1350, 3900, 1500, 900]\n",
      "[3650, 1350, 3900, 1500, 900, 1800]\n",
      "[3650, 1350, 3900, 1500, 900, 1800, 4000]\n",
      "[3650, 1350, 3900, 1500, 900, 1800, 4000, 800]\n",
      "[3650, 1350, 3900, 1500, 900, 1800, 4000, 800, 1100]\n",
      "[3650, 1350, 3900, 1500, 900, 1800, 4000, 800, 1100, 1400]\n",
      "[3650, 1350, 3900, 1500, 900, 1800, 4000, 800, 1100, 1400, 1500]\n",
      "[3650, 1350, 3900, 1500, 900, 1800, 4000, 800, 1100, 1400, 1500, 2100]\n",
      "[3650, 1350, 3900, 1500, 900, 1800, 4000, 800, 1100, 1400, 1500, 2100, 1700]\n",
      "[3650, 1350, 3900, 1500, 900, 1800, 4000, 800, 1100, 1400, 1500, 2100, 1700, 1950]\n",
      "[3650, 1350, 3900, 1500, 900, 1800, 4000, 800, 1100, 1400, 1500, 2100, 1700, 1950, 1400]\n",
      "[3650, 1350, 3900, 1500, 900, 1800, 4000, 800, 1100, 1400, 1500, 2100, 1700, 1950, 1400, 2250]\n",
      "[3650, 1350, 3900, 1500, 900, 1800, 4000, 800, 1100, 1400, 1500, 2100, 1700, 1950, 1400, 2250, 2100]\n"
     ]
    }
   ],
   "source": [
    "# temp=0\n",
    "arr=[]\n",
    "for i in range(2,19):\n",
    "    temp=0\n",
    "    for j in range(0,len(l)):\n",
    "#         print l[j][i]\n",
    "        temp +=int(l[j][i])\n",
    "#     print \"nilesh\"\n",
    "#     print temp\n",
    "    arr.append(temp)\n",
    "    print arr\n",
    "    \n",
    "    \n",
    "    "
   ]
  },
  {
   "cell_type": "code",
   "execution_count": 80,
   "metadata": {
    "collapsed": false
   },
   "outputs": [
    {
     "data": {
      "text/plain": [
       "4000"
      ]
     },
     "execution_count": 80,
     "metadata": {},
     "output_type": "execute_result"
    }
   ],
   "source": [
    "max(arr)"
   ]
  },
  {
   "cell_type": "code",
   "execution_count": 82,
   "metadata": {
    "collapsed": false
   },
   "outputs": [
    {
     "ename": "TypeError",
     "evalue": "'type' object has no attribute '__getitem__'",
     "output_type": "error",
     "traceback": [
      "\u001b[0;31m---------------------------------------------------------------------------\u001b[0m",
      "\u001b[0;31mTypeError\u001b[0m                                 Traceback (most recent call last)",
      "\u001b[0;32m<ipython-input-82-fdef8257cf90>\u001b[0m in \u001b[0;36m<module>\u001b[0;34m()\u001b[0m\n\u001b[0;32m----> 1\u001b[0;31m \u001b[0;32mprint\u001b[0m \u001b[0mstr\u001b[0m\u001b[0;34m[\u001b[0m\u001b[0marr\u001b[0m\u001b[0;34m]\u001b[0m\u001b[0;34m\u001b[0m\u001b[0m\n\u001b[0m",
      "\u001b[0;31mTypeError\u001b[0m: 'type' object has no attribute '__getitem__'"
     ]
    }
   ],
   "source": []
  },
  {
   "cell_type": "code",
   "execution_count": null,
   "metadata": {
    "collapsed": true
   },
   "outputs": [],
   "source": []
  }
 ],
 "metadata": {
  "kernelspec": {
   "display_name": "Python 2",
   "language": "python",
   "name": "python2"
  },
  "language_info": {
   "codemirror_mode": {
    "name": "ipython",
    "version": 2
   },
   "file_extension": ".py",
   "mimetype": "text/x-python",
   "name": "python",
   "nbconvert_exporter": "python",
   "pygments_lexer": "ipython2",
   "version": "2.7.12"
  }
 },
 "nbformat": 4,
 "nbformat_minor": 0
}
