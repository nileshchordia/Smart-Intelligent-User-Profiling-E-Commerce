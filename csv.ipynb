{
 "cells": [
  {
   "cell_type": "code",
   "execution_count": 97,
   "metadata": {
    "collapsed": false
   },
   "outputs": [],
   "source": [
    "import csv \n",
    "import sys\n",
    "# import csv\n",
    "import random\n",
    "import pandas as pd\n",
    "import numpy as np"
   ]
  },
  {
   "cell_type": "code",
   "execution_count": 98,
   "metadata": {
    "collapsed": false
   },
   "outputs": [],
   "source": [
    "\n",
    "f = open('projextitemusermatrix.csv','r')\n",
    "reader = csv.reader(f)\n",
    "# for i in range(1,random.randint(1,20)):\n",
    "#         temp=random.randint(1,176)\n",
    "#         print temp\n",
    "#         for row in reader:\n",
    "#             if(temp==row[0]):\n",
    "#                 print row\n",
    "#     int(row[0])\n",
    "    \n",
    "#     print \"rowsss\"\n",
    "    \n",
    "# for column in reader:\n",
    "#     print column\n",
    "#     print \"nilesh\"\n",
    "\n",
    "l=[]"
   ]
  },
  {
   "cell_type": "code",
   "execution_count": 99,
   "metadata": {
    "collapsed": false
   },
   "outputs": [],
   "source": [
    "dead=random.randint(1,20)\n",
    "for i in range(1,dead):\n",
    "        temp=random.randint(1,176)\n",
    "        temp=str(temp)\n",
    "#         print temp\n",
    "        f.seek(0,0)\n",
    "        for row in reader:\n",
    "            if(temp==row[0]):\n",
    "                ll=row\n",
    "                l.append(ll)\n",
    "#                 print ll\n",
    "                \n",
    "# f.seek(0,0)    "
   ]
  },
  {
   "cell_type": "code",
   "execution_count": null,
   "metadata": {
    "collapsed": false
   },
   "outputs": [],
   "source": []
  },
  {
   "cell_type": "code",
   "execution_count": 100,
   "metadata": {
    "collapsed": false
   },
   "outputs": [
    {
     "name": "stdout",
     "output_type": "stream",
     "text": [
      "[7600]\n",
      "[7600, 7300]\n",
      "[7600, 7300, 9200]\n",
      "[7600, 7300, 9200, 6150]\n",
      "[7600, 7300, 9200, 6150, 2700]\n",
      "[7600, 7300, 9200, 6150, 2700, 5650]\n",
      "[7600, 7300, 9200, 6150, 2700, 5650, 6100]\n",
      "[7600, 7300, 9200, 6150, 2700, 5650, 6100, 6400]\n",
      "[7600, 7300, 9200, 6150, 2700, 5650, 6100, 6400, 4250]\n",
      "[7600, 7300, 9200, 6150, 2700, 5650, 6100, 6400, 4250, 3850]\n",
      "[7600, 7300, 9200, 6150, 2700, 5650, 6100, 6400, 4250, 3850, 6750]\n",
      "[7600, 7300, 9200, 6150, 2700, 5650, 6100, 6400, 4250, 3850, 6750, 6600]\n",
      "[7600, 7300, 9200, 6150, 2700, 5650, 6100, 6400, 4250, 3850, 6750, 6600, 3200]\n",
      "[7600, 7300, 9200, 6150, 2700, 5650, 6100, 6400, 4250, 3850, 6750, 6600, 3200, 3350]\n",
      "[7600, 7300, 9200, 6150, 2700, 5650, 6100, 6400, 4250, 3850, 6750, 6600, 3200, 3350, 5800]\n",
      "[7600, 7300, 9200, 6150, 2700, 5650, 6100, 6400, 4250, 3850, 6750, 6600, 3200, 3350, 5800, 4650]\n",
      "[7600, 7300, 9200, 6150, 2700, 5650, 6100, 6400, 4250, 3850, 6750, 6600, 3200, 3350, 5800, 4650, 4150]\n"
     ]
    }
   ],
   "source": [
    "# temp=0\n",
    "arr=[]\n",
    "for i in range(2,19):\n",
    "    temp=0\n",
    "    for j in range(0,len(l)):\n",
    "#         print l[j][i]\n",
    "        temp +=int(l[j][i])\n",
    "#     print \"nilesh\"\n",
    "#     print temp\n",
    "    arr.append(temp)\n",
    "    print arr\n",
    "    \n",
    "    \n",
    "    "
   ]
  },
  {
   "cell_type": "code",
   "execution_count": null,
   "metadata": {
    "collapsed": false
   },
   "outputs": [],
   "source": []
  },
  {
   "cell_type": "code",
   "execution_count": 102,
   "metadata": {
    "collapsed": false
   },
   "outputs": [],
   "source": [
    "classs=[1,'Student','Homemaker','IT Proffesional','Salesman','Senior Citizen','Teachers','Gamers','Traveller','Sportsman','Medical','Artist','PhotoGrapher','BuisnessMan','Muscican','Fitness Trainer','Job Seeker','Others']"
   ]
  },
  {
   "cell_type": "code",
   "execution_count": 103,
   "metadata": {
    "collapsed": false
   },
   "outputs": [
    {
     "name": "stdout",
     "output_type": "stream",
     "text": [
      "Homemaker\n"
     ]
    }
   ],
   "source": [
    "for i, j in enumerate(arr):\n",
    "    if j == max(arr):\n",
    "        print classs[i]"
   ]
  },
  {
   "cell_type": "code",
   "execution_count": null,
   "metadata": {
    "collapsed": false
   },
   "outputs": [],
   "source": []
  },
  {
   "cell_type": "code",
   "execution_count": null,
   "metadata": {
    "collapsed": true
   },
   "outputs": [],
   "source": []
  }
 ],
 "metadata": {
  "kernelspec": {
   "display_name": "Python 2",
   "language": "python",
   "name": "python2"
  },
  "language_info": {
   "codemirror_mode": {
    "name": "ipython",
    "version": 2
   },
   "file_extension": ".py",
   "mimetype": "text/x-python",
   "name": "python",
   "nbconvert_exporter": "python",
   "pygments_lexer": "ipython2",
   "version": "2.7.12"
  }
 },
 "nbformat": 4,
 "nbformat_minor": 0
}
